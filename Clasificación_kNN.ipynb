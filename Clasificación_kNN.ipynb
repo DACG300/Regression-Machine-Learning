{
  "nbformat": 4,
  "nbformat_minor": 0,
  "metadata": {
    "colab": {
      "provenance": [],
      "authorship_tag": "ABX9TyOqKPfkk0Lg1Gx6dQbhQvd3",
      "include_colab_link": true
    },
    "kernelspec": {
      "name": "python3",
      "display_name": "Python 3"
    },
    "language_info": {
      "name": "python"
    }
  },
  "cells": [
    {
      "cell_type": "markdown",
      "metadata": {
        "id": "view-in-github",
        "colab_type": "text"
      },
      "source": [
        "<a href=\"https://colab.research.google.com/github/DACG300/Regression-Machine-Learning/blob/main/Clasificaci%C3%B3n_kNN.ipynb\" target=\"_parent\"><img src=\"https://colab.research.google.com/assets/colab-badge.svg\" alt=\"Open In Colab\"/></a>"
      ]
    },
    {
      "cell_type": "markdown",
      "source": [
        "# Clasificación kNN\n",
        "\n",
        "**Alunmo:** David Alexander Cervantes Garcia\n",
        "\n",
        "**Docente:** Jose Antonio Aviña\n",
        "\n",
        "**Materia:** Marchine Learning"
      ],
      "metadata": {
        "id": "ccLmr_cR_Ywp"
      }
    },
    {
      "cell_type": "markdown",
      "source": [
        "# 2.1  Fundamentos de la técnica\n",
        "Es un método de aprendizaje supervisado que se utiliza tanto para clasificación como para regresión.\n",
        "\n",
        "kNN simplemente almacena todos los datos de entrenamiento.\n",
        "\n",
        "Cuando recibe un nuevo punto de datos para clasificar, busca en todo el conjunto de datos para encontrar los $k$ puntos (o \"vecinos\") que son más similares a él\n",
        "\n",
        "### Diferencia Clave\n",
        "\n",
        "**Clasificación:** Entra `[Número, Número, Número]` $\\rightarrow$ Sale `[Categoría]`\n",
        "\n",
        "**Regresión:** &nbsp;&nbsp;&nbsp;&nbsp;&nbsp;Entra `[Número, Número, Número]` $\\rightarrow$ Sale `[Número]`"
      ],
      "metadata": {
        "id": "9RDoVR7LAlr1"
      }
    },
    {
      "cell_type": "markdown",
      "source": [
        "| Característica | kNN para Clasificación | kNN para Regresión |\n",
        "| :--- | :--- | :--- |\n",
        "| **Objetivo** | Predecir una **Categoría** o Clase. | Predecir un **Valor Numérico** Continuo. |\n",
        "| **Tipo de Salida** | Discreta (\"Clase A\", \"Setosa\", \"Spam\"). | Continua ( 25.4, $150,000). |\n",
        "| **Método Final** | **Votación (Moda)**. | **Promedio (Media)**. |\n",
        "| **Pregunta que Responde** | \"¿A qué grupo pertenece este dato?\" | \"¿Cuál es el valor de este dato?\" |\n",
        "| **Ejemplo** | Clasificar una flor Iris como \"Setosa\". | Predecir el precio de una casa. |"
      ],
      "metadata": {
        "id": "FFfs_Ciusf5U"
      }
    },
    {
      "cell_type": "markdown",
      "source": [
        "Ambos procesos empiezan igual:\n",
        "\n",
        "Calcula la distancia a todos los puntos.\n",
        "\n",
        "Encuentra los $k$ vecinos más cercanos.Aquí es donde el camino se divide:\n",
        "\n",
        "1. kNN para CLASIFICACIÓN: Predecir una Clase (un valor no contable o categórico)\n",
        "\n",
        "VOTACIÓN (Moda): Se miran las etiquetas de los $k$ vecinos y se elige la que más se repite (la moda).Ejemplo: Si $k=5$ y los vecinos son {Clase A, Clase B, Clase A, Clase A, Clase B}, el resultado es Clase A. **función modo()**\n",
        "\n",
        "\n",
        "\n",
        "\n",
        "\n",
        "2. kNN para REGRESIÓN: Predice un Número (un valor contable o continuo).\n",
        "PROMEDIO (Media): Se miran los valores de los $k$ vecinos y se calcula su promedio.\n",
        "\n",
        "Ejemplo: Si $k=5$ y quieres predecir el precio de una casa, y los precios de las 5 casas vecinas son {$100k, $110k, $105k, $100k, $115k}\n",
        "\n",
        "el resultado es el promedio: $106k."
      ],
      "metadata": {
        "id": "ZaimWA4NssUz"
      }
    },
    {
      "cell_type": "markdown",
      "source": [
        "# 1.2  Modelo Matemático de la técnica.\n",
        "\n",
        "1. Definición Formal (Clasificación)\n",
        "\n",
        "Dado un conjunto de entrenamiento $D$ compuesto por $n$ pares de (características, etiqueta):$$D=\\{(x_{i},y_{i})\\}^{n}_{i=1}$$Para un nuevo punto $x$ que queremos clasificar, su clase predicha $\\hat{y}$ se define como la moda (el valor más frecuente) de las etiquetas de sus $k$ vecinos más cercanos.$$\\hat{y}=modo(\\{y_{i}:x_{i}\\in N_{k}(x)\\})$$Donde:$N_{k}(x)$ es el conjunto que contiene los $k$ vecinos más cercanos a $x$ del conjunto de entrenamiento $D$.\n",
        "\n",
        "$y_{i}$ es la etiqueta de un vecino $x_{i}$ que pertenece a ese conjunto de $k$ vecinos.\n",
        "\n",
        "2. Modelo Matemático (Regresión)\n",
        "\n",
        "Aunque el documento se centra en la clasificación (usando la moda), si estuviéramos haciendo regresión kNN (para predecir un número), la fórmula de predicción $\\hat{y}$ cambiaría de la moda al promedio (media) de los valores de los vecinos:$$\\hat{y}=\\frac{1}{k}\\sum_{x_{i}\\in N_{k}(x)}y_{i}$$\n"
      ],
      "metadata": {
        "id": "xtPp6wgMuhul"
      }
    },
    {
      "cell_type": "code",
      "source": [
        "import pandas as pd\n",
        "import seaborn as sns\n",
        "import matplotlib.pyplot as plt\n",
        "from sklearn.datasets import load_iris\n",
        "from sklearn.model_selection import train_test_split\n",
        "from sklearn.preprocessing import StandardScaler\n",
        "from sklearn.neighbors import KNeighborsClassifier\n",
        "from sklearn.metrics import accuracy_score, confusion_matrix, classification_report\n",
        "\n",
        "# --- 1. Cargar y Explorar el Dataset ---\n",
        "iris = load_iris()\n",
        "X = pd.DataFrame(iris.data, columns=iris.feature_names)\n",
        "y = pd.Series(iris.target, name='target')\n",
        "\n",
        "print(\"--- Primeras 5 filas de X (Características) ---\")\n",
        "print(X.head())\n",
        "print(\"\\n--- Primeras 5 filas de y (Objetivo) ---\")\n",
        "print(y.head())\n",
        "\n"
      ],
      "metadata": {
        "colab": {
          "base_uri": "https://localhost:8080/"
        },
        "id": "OvDvrmLh77rp",
        "outputId": "5defe722-a81b-4437-a1f9-daa73a727125"
      },
      "execution_count": 79,
      "outputs": [
        {
          "output_type": "stream",
          "name": "stdout",
          "text": [
            "--- Primeras 5 filas de X (Características) ---\n",
            "   sepal length (cm)  sepal width (cm)  petal length (cm)  petal width (cm)\n",
            "0                5.1               3.5                1.4               0.2\n",
            "1                4.9               3.0                1.4               0.2\n",
            "2                4.7               3.2                1.3               0.2\n",
            "3                4.6               3.1                1.5               0.2\n",
            "4                5.0               3.6                1.4               0.2\n",
            "\n",
            "--- Primeras 5 filas de y (Objetivo) ---\n",
            "0    0\n",
            "1    0\n",
            "2    0\n",
            "3    0\n",
            "4    0\n",
            "Name: target, dtype: int64\n"
          ]
        }
      ]
    },
    {
      "cell_type": "markdown",
      "source": [
        "`import pandas as pd:` Usada para manejar datos en tablas (conocidas como DataFrames).\n",
        "\n",
        "`import seaborn as sns:` Importa seaborn, una librería para hacer gráficas estadísticas avanzadas.\n",
        "\n",
        "`import matplotlib.pyplot as plt:` Importa matplotlib, la librería base para crear gráficas, sobre la cual funciona seaborn.\n",
        "\n",
        "`from sklearn.datasets import load_iris:` De la librería scikit-learn (la librería principal de Machine Learning), importa la función específica para cargar el dataset Iris.\n",
        "\n",
        "`from sklearn.model_selection import train_test_split:` Importa la herramienta para dividir los datos en un conjunto de entrenamiento y uno de prueba.\n",
        "\n",
        "`from sklearn.preprocessing import StandardScaler:` Importa la herramienta para escalar los datos (un paso crítico para kNN).\n",
        "\n",
        "`from sklearn.neighbors import KNeighborsClassifier:` Importa el modelo kNN (el clasificador).\n",
        "\n",
        "`from sklearn.metrics import:` Importa las funciones para evaluar qué tan bueno es el modelo (matriz de confusión, accuracy, etc.)."
      ],
      "metadata": {
        "id": "-GPsMsMZKWmm"
      }
    },
    {
      "cell_type": "code",
      "source": [
        "X.describe()"
      ],
      "metadata": {
        "colab": {
          "base_uri": "https://localhost:8080/",
          "height": 300
        },
        "id": "Iz4y9PqLF2GP",
        "outputId": "4be3891a-90a7-45ca-99b7-df73c3db73e4"
      },
      "execution_count": 80,
      "outputs": [
        {
          "output_type": "execute_result",
          "data": {
            "text/plain": [
              "       sepal length (cm)  sepal width (cm)  petal length (cm)  \\\n",
              "count         150.000000        150.000000         150.000000   \n",
              "mean            5.843333          3.057333           3.758000   \n",
              "std             0.828066          0.435866           1.765298   \n",
              "min             4.300000          2.000000           1.000000   \n",
              "25%             5.100000          2.800000           1.600000   \n",
              "50%             5.800000          3.000000           4.350000   \n",
              "75%             6.400000          3.300000           5.100000   \n",
              "max             7.900000          4.400000           6.900000   \n",
              "\n",
              "       petal width (cm)  \n",
              "count        150.000000  \n",
              "mean           1.199333  \n",
              "std            0.762238  \n",
              "min            0.100000  \n",
              "25%            0.300000  \n",
              "50%            1.300000  \n",
              "75%            1.800000  \n",
              "max            2.500000  "
            ],
            "text/html": [
              "\n",
              "  <div id=\"df-b563cf3e-e6e9-49a7-bfef-e8fa44a1e362\" class=\"colab-df-container\">\n",
              "    <div>\n",
              "<style scoped>\n",
              "    .dataframe tbody tr th:only-of-type {\n",
              "        vertical-align: middle;\n",
              "    }\n",
              "\n",
              "    .dataframe tbody tr th {\n",
              "        vertical-align: top;\n",
              "    }\n",
              "\n",
              "    .dataframe thead th {\n",
              "        text-align: right;\n",
              "    }\n",
              "</style>\n",
              "<table border=\"1\" class=\"dataframe\">\n",
              "  <thead>\n",
              "    <tr style=\"text-align: right;\">\n",
              "      <th></th>\n",
              "      <th>sepal length (cm)</th>\n",
              "      <th>sepal width (cm)</th>\n",
              "      <th>petal length (cm)</th>\n",
              "      <th>petal width (cm)</th>\n",
              "    </tr>\n",
              "  </thead>\n",
              "  <tbody>\n",
              "    <tr>\n",
              "      <th>count</th>\n",
              "      <td>150.000000</td>\n",
              "      <td>150.000000</td>\n",
              "      <td>150.000000</td>\n",
              "      <td>150.000000</td>\n",
              "    </tr>\n",
              "    <tr>\n",
              "      <th>mean</th>\n",
              "      <td>5.843333</td>\n",
              "      <td>3.057333</td>\n",
              "      <td>3.758000</td>\n",
              "      <td>1.199333</td>\n",
              "    </tr>\n",
              "    <tr>\n",
              "      <th>std</th>\n",
              "      <td>0.828066</td>\n",
              "      <td>0.435866</td>\n",
              "      <td>1.765298</td>\n",
              "      <td>0.762238</td>\n",
              "    </tr>\n",
              "    <tr>\n",
              "      <th>min</th>\n",
              "      <td>4.300000</td>\n",
              "      <td>2.000000</td>\n",
              "      <td>1.000000</td>\n",
              "      <td>0.100000</td>\n",
              "    </tr>\n",
              "    <tr>\n",
              "      <th>25%</th>\n",
              "      <td>5.100000</td>\n",
              "      <td>2.800000</td>\n",
              "      <td>1.600000</td>\n",
              "      <td>0.300000</td>\n",
              "    </tr>\n",
              "    <tr>\n",
              "      <th>50%</th>\n",
              "      <td>5.800000</td>\n",
              "      <td>3.000000</td>\n",
              "      <td>4.350000</td>\n",
              "      <td>1.300000</td>\n",
              "    </tr>\n",
              "    <tr>\n",
              "      <th>75%</th>\n",
              "      <td>6.400000</td>\n",
              "      <td>3.300000</td>\n",
              "      <td>5.100000</td>\n",
              "      <td>1.800000</td>\n",
              "    </tr>\n",
              "    <tr>\n",
              "      <th>max</th>\n",
              "      <td>7.900000</td>\n",
              "      <td>4.400000</td>\n",
              "      <td>6.900000</td>\n",
              "      <td>2.500000</td>\n",
              "    </tr>\n",
              "  </tbody>\n",
              "</table>\n",
              "</div>\n",
              "    <div class=\"colab-df-buttons\">\n",
              "\n",
              "  <div class=\"colab-df-container\">\n",
              "    <button class=\"colab-df-convert\" onclick=\"convertToInteractive('df-b563cf3e-e6e9-49a7-bfef-e8fa44a1e362')\"\n",
              "            title=\"Convert this dataframe to an interactive table.\"\n",
              "            style=\"display:none;\">\n",
              "\n",
              "  <svg xmlns=\"http://www.w3.org/2000/svg\" height=\"24px\" viewBox=\"0 -960 960 960\">\n",
              "    <path d=\"M120-120v-720h720v720H120Zm60-500h600v-160H180v160Zm220 220h160v-160H400v160Zm0 220h160v-160H400v160ZM180-400h160v-160H180v160Zm440 0h160v-160H620v160ZM180-180h160v-160H180v160Zm440 0h160v-160H620v160Z\"/>\n",
              "  </svg>\n",
              "    </button>\n",
              "\n",
              "  <style>\n",
              "    .colab-df-container {\n",
              "      display:flex;\n",
              "      gap: 12px;\n",
              "    }\n",
              "\n",
              "    .colab-df-convert {\n",
              "      background-color: #E8F0FE;\n",
              "      border: none;\n",
              "      border-radius: 50%;\n",
              "      cursor: pointer;\n",
              "      display: none;\n",
              "      fill: #1967D2;\n",
              "      height: 32px;\n",
              "      padding: 0 0 0 0;\n",
              "      width: 32px;\n",
              "    }\n",
              "\n",
              "    .colab-df-convert:hover {\n",
              "      background-color: #E2EBFA;\n",
              "      box-shadow: 0px 1px 2px rgba(60, 64, 67, 0.3), 0px 1px 3px 1px rgba(60, 64, 67, 0.15);\n",
              "      fill: #174EA6;\n",
              "    }\n",
              "\n",
              "    .colab-df-buttons div {\n",
              "      margin-bottom: 4px;\n",
              "    }\n",
              "\n",
              "    [theme=dark] .colab-df-convert {\n",
              "      background-color: #3B4455;\n",
              "      fill: #D2E3FC;\n",
              "    }\n",
              "\n",
              "    [theme=dark] .colab-df-convert:hover {\n",
              "      background-color: #434B5C;\n",
              "      box-shadow: 0px 1px 3px 1px rgba(0, 0, 0, 0.15);\n",
              "      filter: drop-shadow(0px 1px 2px rgba(0, 0, 0, 0.3));\n",
              "      fill: #FFFFFF;\n",
              "    }\n",
              "  </style>\n",
              "\n",
              "    <script>\n",
              "      const buttonEl =\n",
              "        document.querySelector('#df-b563cf3e-e6e9-49a7-bfef-e8fa44a1e362 button.colab-df-convert');\n",
              "      buttonEl.style.display =\n",
              "        google.colab.kernel.accessAllowed ? 'block' : 'none';\n",
              "\n",
              "      async function convertToInteractive(key) {\n",
              "        const element = document.querySelector('#df-b563cf3e-e6e9-49a7-bfef-e8fa44a1e362');\n",
              "        const dataTable =\n",
              "          await google.colab.kernel.invokeFunction('convertToInteractive',\n",
              "                                                    [key], {});\n",
              "        if (!dataTable) return;\n",
              "\n",
              "        const docLinkHtml = 'Like what you see? Visit the ' +\n",
              "          '<a target=\"_blank\" href=https://colab.research.google.com/notebooks/data_table.ipynb>data table notebook</a>'\n",
              "          + ' to learn more about interactive tables.';\n",
              "        element.innerHTML = '';\n",
              "        dataTable['output_type'] = 'display_data';\n",
              "        await google.colab.output.renderOutput(dataTable, element);\n",
              "        const docLink = document.createElement('div');\n",
              "        docLink.innerHTML = docLinkHtml;\n",
              "        element.appendChild(docLink);\n",
              "      }\n",
              "    </script>\n",
              "  </div>\n",
              "\n",
              "\n",
              "    <div id=\"df-4df39e26-28d1-497a-a125-06082934cec7\">\n",
              "      <button class=\"colab-df-quickchart\" onclick=\"quickchart('df-4df39e26-28d1-497a-a125-06082934cec7')\"\n",
              "                title=\"Suggest charts\"\n",
              "                style=\"display:none;\">\n",
              "\n",
              "<svg xmlns=\"http://www.w3.org/2000/svg\" height=\"24px\"viewBox=\"0 0 24 24\"\n",
              "     width=\"24px\">\n",
              "    <g>\n",
              "        <path d=\"M19 3H5c-1.1 0-2 .9-2 2v14c0 1.1.9 2 2 2h14c1.1 0 2-.9 2-2V5c0-1.1-.9-2-2-2zM9 17H7v-7h2v7zm4 0h-2V7h2v10zm4 0h-2v-4h2v4z\"/>\n",
              "    </g>\n",
              "</svg>\n",
              "      </button>\n",
              "\n",
              "<style>\n",
              "  .colab-df-quickchart {\n",
              "      --bg-color: #E8F0FE;\n",
              "      --fill-color: #1967D2;\n",
              "      --hover-bg-color: #E2EBFA;\n",
              "      --hover-fill-color: #174EA6;\n",
              "      --disabled-fill-color: #AAA;\n",
              "      --disabled-bg-color: #DDD;\n",
              "  }\n",
              "\n",
              "  [theme=dark] .colab-df-quickchart {\n",
              "      --bg-color: #3B4455;\n",
              "      --fill-color: #D2E3FC;\n",
              "      --hover-bg-color: #434B5C;\n",
              "      --hover-fill-color: #FFFFFF;\n",
              "      --disabled-bg-color: #3B4455;\n",
              "      --disabled-fill-color: #666;\n",
              "  }\n",
              "\n",
              "  .colab-df-quickchart {\n",
              "    background-color: var(--bg-color);\n",
              "    border: none;\n",
              "    border-radius: 50%;\n",
              "    cursor: pointer;\n",
              "    display: none;\n",
              "    fill: var(--fill-color);\n",
              "    height: 32px;\n",
              "    padding: 0;\n",
              "    width: 32px;\n",
              "  }\n",
              "\n",
              "  .colab-df-quickchart:hover {\n",
              "    background-color: var(--hover-bg-color);\n",
              "    box-shadow: 0 1px 2px rgba(60, 64, 67, 0.3), 0 1px 3px 1px rgba(60, 64, 67, 0.15);\n",
              "    fill: var(--button-hover-fill-color);\n",
              "  }\n",
              "\n",
              "  .colab-df-quickchart-complete:disabled,\n",
              "  .colab-df-quickchart-complete:disabled:hover {\n",
              "    background-color: var(--disabled-bg-color);\n",
              "    fill: var(--disabled-fill-color);\n",
              "    box-shadow: none;\n",
              "  }\n",
              "\n",
              "  .colab-df-spinner {\n",
              "    border: 2px solid var(--fill-color);\n",
              "    border-color: transparent;\n",
              "    border-bottom-color: var(--fill-color);\n",
              "    animation:\n",
              "      spin 1s steps(1) infinite;\n",
              "  }\n",
              "\n",
              "  @keyframes spin {\n",
              "    0% {\n",
              "      border-color: transparent;\n",
              "      border-bottom-color: var(--fill-color);\n",
              "      border-left-color: var(--fill-color);\n",
              "    }\n",
              "    20% {\n",
              "      border-color: transparent;\n",
              "      border-left-color: var(--fill-color);\n",
              "      border-top-color: var(--fill-color);\n",
              "    }\n",
              "    30% {\n",
              "      border-color: transparent;\n",
              "      border-left-color: var(--fill-color);\n",
              "      border-top-color: var(--fill-color);\n",
              "      border-right-color: var(--fill-color);\n",
              "    }\n",
              "    40% {\n",
              "      border-color: transparent;\n",
              "      border-right-color: var(--fill-color);\n",
              "      border-top-color: var(--fill-color);\n",
              "    }\n",
              "    60% {\n",
              "      border-color: transparent;\n",
              "      border-right-color: var(--fill-color);\n",
              "    }\n",
              "    80% {\n",
              "      border-color: transparent;\n",
              "      border-right-color: var(--fill-color);\n",
              "      border-bottom-color: var(--fill-color);\n",
              "    }\n",
              "    90% {\n",
              "      border-color: transparent;\n",
              "      border-bottom-color: var(--fill-color);\n",
              "    }\n",
              "  }\n",
              "</style>\n",
              "\n",
              "      <script>\n",
              "        async function quickchart(key) {\n",
              "          const quickchartButtonEl =\n",
              "            document.querySelector('#' + key + ' button');\n",
              "          quickchartButtonEl.disabled = true;  // To prevent multiple clicks.\n",
              "          quickchartButtonEl.classList.add('colab-df-spinner');\n",
              "          try {\n",
              "            const charts = await google.colab.kernel.invokeFunction(\n",
              "                'suggestCharts', [key], {});\n",
              "          } catch (error) {\n",
              "            console.error('Error during call to suggestCharts:', error);\n",
              "          }\n",
              "          quickchartButtonEl.classList.remove('colab-df-spinner');\n",
              "          quickchartButtonEl.classList.add('colab-df-quickchart-complete');\n",
              "        }\n",
              "        (() => {\n",
              "          let quickchartButtonEl =\n",
              "            document.querySelector('#df-4df39e26-28d1-497a-a125-06082934cec7 button');\n",
              "          quickchartButtonEl.style.display =\n",
              "            google.colab.kernel.accessAllowed ? 'block' : 'none';\n",
              "        })();\n",
              "      </script>\n",
              "    </div>\n",
              "\n",
              "    </div>\n",
              "  </div>\n"
            ],
            "application/vnd.google.colaboratory.intrinsic+json": {
              "type": "dataframe",
              "summary": "{\n  \"name\": \"X\",\n  \"rows\": 8,\n  \"fields\": [\n    {\n      \"column\": \"sepal length (cm)\",\n      \"properties\": {\n        \"dtype\": \"number\",\n        \"std\": 51.24711349471842,\n        \"min\": 0.8280661279778629,\n        \"max\": 150.0,\n        \"num_unique_values\": 8,\n        \"samples\": [\n          5.843333333333334,\n          5.8,\n          150.0\n        ],\n        \"semantic_type\": \"\",\n        \"description\": \"\"\n      }\n    },\n    {\n      \"column\": \"sepal width (cm)\",\n      \"properties\": {\n        \"dtype\": \"number\",\n        \"std\": 52.08617800869866,\n        \"min\": 0.435866284936698,\n        \"max\": 150.0,\n        \"num_unique_values\": 8,\n        \"samples\": [\n          3.0573333333333337,\n          3.0,\n          150.0\n        ],\n        \"semantic_type\": \"\",\n        \"description\": \"\"\n      }\n    },\n    {\n      \"column\": \"petal length (cm)\",\n      \"properties\": {\n        \"dtype\": \"number\",\n        \"std\": 51.83521261418364,\n        \"min\": 1.0,\n        \"max\": 150.0,\n        \"num_unique_values\": 8,\n        \"samples\": [\n          3.7580000000000005,\n          4.35,\n          150.0\n        ],\n        \"semantic_type\": \"\",\n        \"description\": \"\"\n      }\n    },\n    {\n      \"column\": \"petal width (cm)\",\n      \"properties\": {\n        \"dtype\": \"number\",\n        \"std\": 52.636648242617504,\n        \"min\": 0.1,\n        \"max\": 150.0,\n        \"num_unique_values\": 8,\n        \"samples\": [\n          1.1993333333333336,\n          1.3,\n          150.0\n        ],\n        \"semantic_type\": \"\",\n        \"description\": \"\"\n      }\n    }\n  ]\n}"
            }
          },
          "metadata": {},
          "execution_count": 80
        }
      ]
    },
    {
      "cell_type": "markdown",
      "source": [
        "count: El número total de filas (para saber si faltan datos).\n",
        "\n",
        "mean: El valor promedio (la media) de cada columna.\n",
        "\n",
        "std: La desviación estándar (qué tan dispersos están los datos).\n",
        "\n",
        "min: El valor mínimo en cada columna.\n",
        "\n",
        "25%: El primer cuartil (el valor por debajo del cual se encuentra el 25% de los datos).\n",
        "\n",
        "50%: La mediana (el valor medio exacto de los datos).\n",
        "\n",
        "75%: El tercer cuartil (el valor por debajo del cual se encuentra el 75% de los datos).\n",
        "\n",
        "max: El valor máximo en cada columna."
      ],
      "metadata": {
        "id": "dOavtsEzL1UJ"
      }
    },
    {
      "cell_type": "code",
      "source": [
        "plt.figure(figsize=(10, 6)) # Ajusta el tamaño de la figura\n",
        "\n",
        "sns.scatterplot(\n",
        "    x=X['petal length (cm)'],  # Característica en el eje X\n",
        "    y=X['petal width (cm)'],   # Característica en el eje Y\n",
        "    hue=y_species,             # Colorear los puntos según la especie\n",
        "    palette='viridis',         # Esquema de color\n",
        "    s=100,                     # Tamaño de los puntos\n",
        "    alpha=0.7                  # Transparencia\n",
        ")\n",
        "\n",
        "# Añadir títulos y etiquetas\n",
        "plt.title('Separación de Especies de Iris (La Gráfica \"Importante\")', fontsize=16)\n",
        "plt.xlabel('Largo del Pétalo (cm)', fontsize=12)\n",
        "plt.ylabel('Ancho del Pétalo (cm)', fontsize=12)\n",
        "plt.legend(title='Especie')\n",
        "plt.grid(True) # Añadir una cuadrícula\n",
        "plt.show()\n",
        "\n"
      ],
      "metadata": {
        "colab": {
          "base_uri": "https://localhost:8080/",
          "height": 572
        },
        "id": "ZEea5O1dFs2u",
        "outputId": "4626980a-4128-4ee1-f203-1cbeecbe5376"
      },
      "execution_count": 81,
      "outputs": [
        {
          "output_type": "display_data",
          "data": {
            "text/plain": [
              "<Figure size 1000x600 with 1 Axes>"
            ],
            "image/png": "[encoded data removed]"
          },
          "metadata": {}
        }
      ]
    },
    {
      "cell_type": "markdown",
      "source": [
        "se colocó la gráfica más importante para la observación de este modelo: un scatterplot que compara el 'Largo del Pétalo' (eje X) contra el 'Ancho del Pétalo' (eje Y)."
      ],
      "metadata": {
        "id": "7n06CnusMNYd"
      }
    },
    {
      "cell_type": "code",
      "source": [
        "# --- 3. FEATURE ENGINEERING (Selección de Características) ---\n",
        "print(\"\\n--- 3. Seleccionando Características ---\")\n",
        "# Basado en la gráfica, se seleccionan solo las 2 características del pétalo\n",
        "selected_features = ['petal length (cm)', 'petal width (cm)']\n",
        "X = X_original[selected_features] # 'X' ahora solo tiene 2 características\n",
        "print(\"Características seleccionadas (primeras 5 filas):\")\n",
        "print(X.head())"
      ],
      "metadata": {
        "colab": {
          "base_uri": "https://localhost:8080/"
        },
        "id": "ENo6G7FVV3ok",
        "outputId": "d8d06dc2-5fd6-48be-915b-d0ded030f0e3"
      },
      "execution_count": 82,
      "outputs": [
        {
          "output_type": "stream",
          "name": "stdout",
          "text": [
            "\n",
            "--- 3. Seleccionando Características ---\n",
            "Características seleccionadas (primeras 5 filas):\n",
            "   petal length (cm)  petal width (cm)\n",
            "0                1.4               0.2\n",
            "1                1.4               0.2\n",
            "2                1.3               0.2\n",
            "3                1.5               0.2\n",
            "4                1.4               0.2\n"
          ]
        }
      ]
    },
    {
      "cell_type": "markdown",
      "source": [
        "### Feature Engineering\n",
        "\n",
        "En esta etapa se seleccionan las variables o características más relevantes del conjunto de datos que serán utilizadas por el modelo **k-Nearest Neighbors (kNN)** para realizar la clasificación.\n",
        "\n",
        "El proceso consiste en:\n",
        "- **Identificar las columnas predictoras (features)** que contienen información útil para distinguir entre clases.  \n",
        "- **Eliminar variables irrelevantes o redundantes** que no aporten valor a la predicción.  \n",
        "- **Normalizar o escalar los datos**, ya que kNN depende de las distancias entre puntos, y las diferencias de escala pueden afectar el resultado.\n",
        "\n",
        "En este caso, se seleccionan las siguientes variables como *features (X)* y la columna de clase como *target (y)*:\n"
      ],
      "metadata": {
        "id": "kd5LJfxBYuwt"
      }
    },
    {
      "cell_type": "code",
      "source": [
        "# --- 2. Dividir los datos (Train/Test Split) ---\n",
        "X_train, X_test, y_train, y_test = train_test_split(X, y, test_size=0.3, random_state=42, stratify=y)\n",
        "\n",
        "print(f\"Datos de entrenamiento: {X_train.shape[0]} muestras\")\n",
        "print(f\"Datos de prueba: {X_test.shape[0]} muestras\")"
      ],
      "metadata": {
        "colab": {
          "base_uri": "https://localhost:8080/"
        },
        "id": "XBQaRDaCIbsc",
        "outputId": "cc4a62b4-bb56-4b14-c952-5d5a4fd499f7"
      },
      "execution_count": 83,
      "outputs": [
        {
          "output_type": "stream",
          "name": "stdout",
          "text": [
            "Datos de entrenamiento: 105 muestras\n",
            "Datos de prueba: 45 muestras\n"
          ]
        }
      ]
    },
    {
      "cell_type": "markdown",
      "source": [
        "Un conjunto de entrenamiento (el 70% de los datos) para enseñar al modelo.\n",
        "\n",
        "Un conjunto de prueba (el 30% restante) para evaluarlo."
      ],
      "metadata": {
        "id": "plHVzCu0M-g6"
      }
    },
    {
      "cell_type": "code",
      "source": [
        "# El scaler se ajusta ('fit') SOLO al X_train (de 2 características)\n",
        "scaler = StandardScaler()\n",
        "X_train_scaled = scaler.fit_transform(X_train)\n",
        "X_test_scaled = scaler.transform(X_test)"
      ],
      "metadata": {
        "id": "YssVJCGXIfa9"
      },
      "execution_count": 84,
      "outputs": []
    },
    {
      "cell_type": "markdown",
      "source": [
        "El algoritmo kNN funciona midiendo la distancia entre puntos. Si una característica (como petal length [1.0 a 6.9 cm]) tiene un rango de valores mucho más grande que otra (como petal width [0.1 a 2.5 cm]), la característica con los números más grandes dominará injustamente el cálculo de la distancia, y las otras características serán ignoradas.\n",
        "\n",
        "entonces se reduce a media 0 y con la desviacion estandar en 1 para que tengan la misma importancia"
      ],
      "metadata": {
        "id": "aVR-VhCVNsy6"
      }
    },
    {
      "cell_type": "code",
      "source": [
        "# --- 4. Crear y Entrenar el Modelo kNN ---\n",
        "# Usaremos k=5. Es un hiperparámetro común para empezar.\n",
        "k = 5\n",
        "knn = KNeighborsClassifier(n_neighbors=k)\n",
        "\n",
        "# Entrenar el modelo con los datos de entrenamiento escalados\n",
        "knn.fit(X_train_scaled, y_train)\n",
        "print(f\"\\nModelo kNN (k={k}) entrenado.\")"
      ],
      "metadata": {
        "colab": {
          "base_uri": "https://localhost:8080/"
        },
        "id": "mW88DVARInw-",
        "outputId": "98d2082f-7f99-4f54-eb7f-5f9b486138bc"
      },
      "execution_count": 85,
      "outputs": [
        {
          "output_type": "stream",
          "name": "stdout",
          "text": [
            "\n",
            "Modelo kNN (k=5) entrenado.\n"
          ]
        }
      ]
    },
    {
      "cell_type": "markdown",
      "source": [
        "k = 5: Se establece el hiperparámetro k=5. Esto define que el modelo usará 5 vecinos para tomar sus decisiones (votar) al momento de clasificar un nuevo dato.\n",
        "\n",
        "knn = KNeighborsClassifier(...): Se crea una instancia del modelo clasificador kNN, pasándole el valor k=5 como su número de vecinos (n_neighbors).\n",
        "\n",
        "knn.fit(X_train_scaled, y_train): Esta es la línea de \"entrenamiento\". El modelo memoriza todos los datos de entrenamiento escalados (X_train_scaled) junto con sus etiquetas correctas (y_train). A este proceso se le conoce como \"aprendizaje vago\" (lazy learning)"
      ],
      "metadata": {
        "id": "1UD4eGm1OYnf"
      }
    },
    {
      "cell_type": "code",
      "source": [
        "# --- 5. Realizar Predicciones ---\n",
        "# Usamos los datos de prueba (X_test_scaled) para que el modelo prediga 'y'\n",
        "y_pred = knn.predict(X_test_scaled)"
      ],
      "metadata": {
        "id": "ugbGGliLIrVA"
      },
      "execution_count": 86,
      "outputs": []
    },
    {
      "cell_type": "markdown",
      "source": [
        "Para cada flor en el conjunto de prueba, el modelo \"vota\" usando sus $k=5$ vecinos más cercanos. Las \"respuestas\" del modelo se almacenan en la nueva variable y_pred para poder evaluarlas."
      ],
      "metadata": {
        "id": "bdQ6eWGyOo-w"
      }
    },
    {
      "cell_type": "code",
      "source": [
        "# --- 6. Evaluar el Modelo ---\n",
        "print(\"\\n--- Evaluación del Modelo kNN ---\")\n",
        "\n",
        "# Precisión (Accuracy)\n",
        "accuracy = accuracy_score(y_test, y_pred)\n",
        "print(f'Precisión (Accuracy): {accuracy * 100:.2f}%')\n"
      ],
      "metadata": {
        "colab": {
          "base_uri": "https://localhost:8080/"
        },
        "id": "hZ0In-OgIwK2",
        "outputId": "81d3012e-016b-4316-e9b8-81327f7b6a96"
      },
      "execution_count": 87,
      "outputs": [
        {
          "output_type": "stream",
          "name": "stdout",
          "text": [
            "\n",
            "--- Evaluación del Modelo kNN ---\n",
            "Precisión (Accuracy): 91.11%\n"
          ]
        }
      ]
    },
    {
      "cell_type": "markdown",
      "source": [
        "código calcula la Precisión (Accuracy), la métrica principal que mide la efectividad del modelo kNN.\n",
        "\n",
        "Un resultado del 91.11% significa que el modelo clasificó correctamente el 91.11% de las muestras en el conjunto de prueba.\n",
        "\n",
        "El modelo logró predecir la especie correcta para aproximadamente 91 de cada 100 flores que nunca antes había visto."
      ],
      "metadata": {
        "id": "jeHgT1LjPDYc"
      }
    },
    {
      "cell_type": "code",
      "source": [
        "\n",
        "# Matriz de Confusión\n",
        "print(\"\\n--- Matriz de Confusión ---\")\n",
        "# Filas = Valor Real, Columnas = Valor Predicho\n",
        "cm = confusion_matrix(y_test, y_pred)\n",
        "print(cm)\n"
      ],
      "metadata": {
        "colab": {
          "base_uri": "https://localhost:8080/"
        },
        "id": "YHVCN2LfPFjM",
        "outputId": "5f02b91d-dfd4-4838-e3a3-4b1d6047f33b"
      },
      "execution_count": 88,
      "outputs": [
        {
          "output_type": "stream",
          "name": "stdout",
          "text": [
            "\n",
            "--- Matriz de Confusión ---\n",
            "[[15  0  0]\n",
            " [ 0 14  1]\n",
            " [ 0  3 12]]\n"
          ]
        }
      ]
    },
    {
      "cell_type": "markdown",
      "source": [
        "`Matriz de confusion`\n",
        "\n",
        "La Matriz de Confusión es una tabla que resume el rendimiento de un modelo de clasificación. Lo hace comparando las etiquetas reales (la verdad) con las etiquetas que predijo el modelo.\n",
        "\n",
        "Su propósito principal es mostrarte exactamente dónde se está \"confundiendo\" el modelo."
      ],
      "metadata": {
        "id": "I7BXJYzZPIEg"
      }
    },
    {
      "cell_type": "markdown",
      "source": [
        "\n",
        "\n",
        "\n",
        "(Filas = **Valor Real**, Columnas = **Valor Predicho**)\n",
        "\n",
        "| | Predijo: Setosa (0) | Predijo: Versicolor (1) | Predijo: Virginica (2) | **Total Real** |\n",
        "| :--- | :---: | :---: | :---: | :---: |\n",
        "| **Real: Setosa (0)** | **15** | 0 | 0 | **15** |\n",
        "| **Real: Versicolor (1)**| 0 | **14** | **1** | **15** |\n",
        "| **Real: Virginica (2)**| 0 | **3** | **12** | **15** |\n",
        "\n",
        "---\n",
        "\n",
        "**1. La Diagonal (Aciertos)**:\n",
        "* `[15, 0, 0]`: Había 15 **Setosas** reales, y el modelo predijo **correctamente** las 15 como Setosa. (¡Perfecto!)\n",
        "* `[0, 14, 1]`: Había 15 **Versicolor** reales, y el modelo predijo **correctamente** 14 de ellas como Versicolor.\n",
        "* `[0, 3, 12]`: Había 15 **Virginicas** reales, y el modelo predijo **correctamente** 12 de ellas como Virginica.\n",
        "\n",
        "**2. Fuera de la Diagonal (Errores)**:\n",
        "* `[0, 14, 1]` (Fila **Versicolor**): Hubo **1** flor que **era Versicolor**, pero el modelo **se equivocó** y la predijo como **Virginica** (Columna 2).\n",
        "* `[0, 3, 12]` (Fila **Virginica**): Hubo **3** flores que **eran Virginica**, pero el modelo **se equivocó** y las predijo como **Versicolor** (Columna 1).\n",
        "\n",
        "**Conclusión:** El modelo es perfecto para identificar **Setosa**. Su principal \"confusión\" (4 errores en total) ocurre entre **Versicolor** y **Virginica**. Se equivoca un poco más al clasificar las Virginica (pensando que son Versicolor), lo cual es un error común ya que son las dos clases más parecidas."
      ],
      "metadata": {
        "id": "r0CohNcAQYKB"
      }
    },
    {
      "cell_type": "code",
      "source": [
        "\n",
        "# Reporte de Clasificación (Precisión, Recall, F1-score)\n",
        "print(\"\\n--- Reporte de Clasificación ---\")\n",
        "# Muestra métricas detalladas para cada clase\n",
        "print(classification_report(y_test, y_pred, target_names=iris.target_names))"
      ],
      "metadata": {
        "colab": {
          "base_uri": "https://localhost:8080/"
        },
        "id": "2plj4hUxPIS9",
        "outputId": "902acdda-60f1-427c-a558-b3fecd542361"
      },
      "execution_count": 89,
      "outputs": [
        {
          "output_type": "stream",
          "name": "stdout",
          "text": [
            "\n",
            "--- Reporte de Clasificación ---\n",
            "              precision    recall  f1-score   support\n",
            "\n",
            "      setosa       1.00      1.00      1.00        15\n",
            "  versicolor       0.82      0.93      0.88        15\n",
            "   virginica       0.92      0.80      0.86        15\n",
            "\n",
            "    accuracy                           0.91        45\n",
            "   macro avg       0.92      0.91      0.91        45\n",
            "weighted avg       0.92      0.91      0.91        45\n",
            "\n"
          ]
        }
      ]
    },
    {
      "cell_type": "markdown",
      "source": [
        "\n",
        "> Clasificacion de Reportes:\n",
        "resumen detallado de qué tan bien funciona tu modelo de clasificación para cada una de las clases.\n",
        "\n",
        "Precision: Qué tan exactas fueron las predicciones para esa clase.\n",
        "\n",
        "Recall: Cuántas de las instancias reales de esa clase encontró el modelo.\n",
        "\n",
        "F1-score: Un balance entre las dos métricas anteriores.\n",
        "\n",
        "El uso de target_names hace que el reporte sea fácil de leer al mostrar los nombres de las especies en lugar de solo los números 0, 1 y 2."
      ],
      "metadata": {
        "id": "-dEHUyhnQ3A5"
      }
    },
    {
      "cell_type": "code",
      "source": [
        "\n",
        "def predecir_flor(patron):\n",
        "    \"\"\"\n",
        "    Recibe [largo_petalo, ancho_petalo] y predice la especie.\n",
        "    Usa el 'scaler' y 'knn' ya entrenados.\n",
        "    \"\"\"\n",
        "    # Crear DataFrame con los nombres de columnas originales\n",
        "    columnas = ['largo_petalo', 'ancho_petalo']  # usa los nombres exactos de tu dataset\n",
        "    patron_df = pd.DataFrame([patron], columns=columnas)\n",
        "\n",
        "    # Escalar el patrón\n",
        "    patron_scaled = scaler.transform(patron_df)\n",
        "\n",
        "    # Predecir\n",
        "    clase_num = knn.predict(patron_scaled)[0]\n",
        "\n",
        "    return iris.target_names[clase_num]\n",
        "\n",
        "\n",
        "print(f\"\\nLas medidas {flor_misteriosa} pertenecen a la especie: {prediccion}\")"
      ],
      "metadata": {
        "colab": {
          "base_uri": "https://localhost:8080/"
        },
        "id": "90DytXomWrpC",
        "outputId": "7f10e0b9-b7c4-4f3c-8d2f-afb370d2eb7b"
      },
      "execution_count": 95,
      "outputs": [
        {
          "output_type": "stream",
          "name": "stdout",
          "text": [
            "\n",
            "Las medidas [5.1, 1.8] pertenecen a la especie: virginica\n"
          ]
        }
      ]
    },
    {
      "cell_type": "markdown",
      "source": [
        "Nos muestra una prediccion con el kNN ya entrenado para clasificar una flor nueva y desconocida.\n",
        "\n",
        "Al darle las medidas de la flor este modelo lo que hace es clasificar (modelo: Moda) y darnos una categoria.\n",
        "\n",
        "Escala el nuevo patrón usando el scaler que ya fue \"entrenado\".\n",
        "\n",
        "Predice la clase (el número 0, 1 o 2) usando el modelo knn entrenado.\n",
        "\n",
        "Traduce el número a un nombre legible (\"Virginica\")."
      ],
      "metadata": {
        "id": "IWEUwXuAZcU6"
      }
    }
  ]
}